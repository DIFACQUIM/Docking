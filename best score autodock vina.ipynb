{
 "cells": [
  {
   "cell_type": "code",
   "execution_count": null,
   "id": "85525b97",
   "metadata": {},
   "outputs": [],
   "source": [
    "#Before to run the script, the .pdbqt files must be in the same directory of this script\n",
    "#The name of every .pdbqt file is going to be the label for every compound\n",
    "\n",
    "import os\n",
    "import pandas as pd\n",
    "\n",
    "#get current path\n",
    "directorio_actual=os.getcwd()\n",
    "\n",
    "#List files from current path\n",
    "contenido = os.listdir(directorio_actual)\n",
    "\n",
    "archivos_pdbqt = []\n",
    "archivos_pdbqt_clean = []\n",
    "scores=[]\n",
    "\n",
    "#list only pdbqt files\n",
    "for i in contenido:\n",
    "    if os.path.isfile(os.path.join(directorio_actual, i)) and i.endswith('.pdbqt'):\n",
    "        archivos_pdbqt.append(i) \n",
    "\n",
    "#copy the second line of a .pdbqt file\n",
    "for i in archivos_pdbqt: #open each .pdbqt file\n",
    "    fichero=open(i)\n",
    "\n",
    "    for numero, linea in enumerate(fichero):\n",
    "       if numero == 1:  # Second line, since the first line would be number 0\n",
    "          break\n",
    "    fichero.close()\n",
    "    #print(linea)\n",
    "\n",
    "    #get only characters 22-29 of the second line\n",
    "    linea=linea[22:29]\n",
    "    scores.append(linea)\n",
    "    #print(linea)\n",
    "        \n",
    "#remove character '.pdbqt'\n",
    "for i in archivos_pdbqt:\n",
    "    archivos_pdbqt_clean.append(i.replace('.pdbqt', ''))\n",
    "    \n",
    "#Create a pandas dataframe\n",
    "df=pd.DataFrame()\n",
    "\n",
    "df['ID']=archivos_pdbqt_clean\n",
    "df['Scores']=scores\n",
    "\n",
    "#order scores from lowest to highest\n",
    "df=df.sort_values('Scores', ascending=False)\n",
    "\n",
    "print(df)\n",
    "\n",
    "df.to_excel(\"scores.xlsx\")"
   ]
  }
 ],
 "metadata": {
  "kernelspec": {
   "display_name": "Python 3 (ipykernel)",
   "language": "python",
   "name": "python3"
  },
  "language_info": {
   "codemirror_mode": {
    "name": "ipython",
    "version": 3
   },
   "file_extension": ".py",
   "mimetype": "text/x-python",
   "name": "python",
   "nbconvert_exporter": "python",
   "pygments_lexer": "ipython3",
   "version": "3.10.7"
  }
 },
 "nbformat": 4,
 "nbformat_minor": 5
}
